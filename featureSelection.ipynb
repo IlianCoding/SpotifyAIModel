{
 "cells": [
  {
   "cell_type": "code",
   "id": "initial_id",
   "metadata": {
    "collapsed": true,
    "ExecuteTime": {
     "end_time": "2024-10-24T07:35:09.235567Z",
     "start_time": "2024-10-24T07:35:08.848284Z"
    }
   },
   "source": [
    "import pandas as pd\n",
    "import numpy as np"
   ],
   "outputs": [],
   "execution_count": 2
  },
  {
   "metadata": {},
   "cell_type": "markdown",
   "source": "# Feature Selection",
   "id": "3736604b119f95e8"
  },
  {
   "metadata": {},
   "cell_type": "markdown",
   "source": "### Load in the data",
   "id": "4589bc379b6df569"
  },
  {
   "metadata": {
    "ExecuteTime": {
     "end_time": "2024-10-24T09:08:18.909678Z",
     "start_time": "2024-10-24T09:08:18.850532Z"
    }
   },
   "cell_type": "code",
   "source": [
    "data = pd.read_csv('dataset/spotify_songs_restructured_cleaned.csv')\n",
    "data.head()"
   ],
   "id": "41d15d80940b949c",
   "outputs": [
    {
     "data": {
      "text/plain": [
       "                                 track_name      track_artist  \\\n",
       "0           Memories - Dillon Francis Remix          Maroon 5   \n",
       "1         Call You Mine - Keanu Silva Remix  The Chainsmokers   \n",
       "2   Someone You Loved - Future Humans Remix     Lewis Capaldi   \n",
       "3           Never Really Over - R3HAB Remix        Katy Perry   \n",
       "4  Post Malone (feat. RANI) - GATTÜSO Remix         Sam Feldt   \n",
       "\n",
       "   track_popularity                          track_album_name  \\\n",
       "0              67.0           Memories (Dillon Francis Remix)   \n",
       "1              60.0               Call You Mine - The Remixes   \n",
       "2              69.0   Someone You Loved (Future Humans Remix)   \n",
       "3              62.0           Never Really Over (R3HAB Remix)   \n",
       "4              69.0  Post Malone (feat. RANI) [GATTÜSO Remix]   \n",
       "\n",
       "  track_album_release_date playlist_genre  danceability  energy   key  \\\n",
       "0      2019-12-13 00:00:00            pop         0.726   0.815  11.0   \n",
       "1      2019-07-19 00:00:00            pop         0.718   0.930   7.0   \n",
       "2      2019-03-05 00:00:00            pop         0.650   0.833   1.0   \n",
       "3      2019-07-26 00:00:00            pop         0.449   0.856   5.0   \n",
       "4      2019-08-29 00:00:00            pop         0.542   0.903   4.0   \n",
       "\n",
       "   loudness  speechiness  liveness  valence       tempo  duration_ms  \\\n",
       "0    -4.969      0.03730  0.357000    0.693  120.757315     162600.0   \n",
       "1    -3.778      0.10200  0.204000    0.277  121.956000     169093.0   \n",
       "2    -4.672      0.03590  0.191022    0.725  123.976000     189052.0   \n",
       "3    -4.788      0.10645  0.176000    0.152  112.648000     187675.0   \n",
       "4    -2.419      0.04340  0.191022    0.367  127.936000     207619.0   \n",
       "\n",
       "  popularity_category tempo_category loudness_category release_month  \n",
       "0   Medium Popularity           Fast              Loud      December  \n",
       "1   Medium Popularity           Fast              Loud          July  \n",
       "2   Medium Popularity           Fast              Loud         March  \n",
       "3   Medium Popularity       Moderate              Loud          July  \n",
       "4   Medium Popularity           Fast              Loud        August  "
      ],
      "text/html": [
       "<div>\n",
       "<style scoped>\n",
       "    .dataframe tbody tr th:only-of-type {\n",
       "        vertical-align: middle;\n",
       "    }\n",
       "\n",
       "    .dataframe tbody tr th {\n",
       "        vertical-align: top;\n",
       "    }\n",
       "\n",
       "    .dataframe thead th {\n",
       "        text-align: right;\n",
       "    }\n",
       "</style>\n",
       "<table border=\"1\" class=\"dataframe\">\n",
       "  <thead>\n",
       "    <tr style=\"text-align: right;\">\n",
       "      <th></th>\n",
       "      <th>track_name</th>\n",
       "      <th>track_artist</th>\n",
       "      <th>track_popularity</th>\n",
       "      <th>track_album_name</th>\n",
       "      <th>track_album_release_date</th>\n",
       "      <th>playlist_genre</th>\n",
       "      <th>danceability</th>\n",
       "      <th>energy</th>\n",
       "      <th>key</th>\n",
       "      <th>loudness</th>\n",
       "      <th>speechiness</th>\n",
       "      <th>liveness</th>\n",
       "      <th>valence</th>\n",
       "      <th>tempo</th>\n",
       "      <th>duration_ms</th>\n",
       "      <th>popularity_category</th>\n",
       "      <th>tempo_category</th>\n",
       "      <th>loudness_category</th>\n",
       "      <th>release_month</th>\n",
       "    </tr>\n",
       "  </thead>\n",
       "  <tbody>\n",
       "    <tr>\n",
       "      <th>0</th>\n",
       "      <td>Memories - Dillon Francis Remix</td>\n",
       "      <td>Maroon 5</td>\n",
       "      <td>67.0</td>\n",
       "      <td>Memories (Dillon Francis Remix)</td>\n",
       "      <td>2019-12-13 00:00:00</td>\n",
       "      <td>pop</td>\n",
       "      <td>0.726</td>\n",
       "      <td>0.815</td>\n",
       "      <td>11.0</td>\n",
       "      <td>-4.969</td>\n",
       "      <td>0.03730</td>\n",
       "      <td>0.357000</td>\n",
       "      <td>0.693</td>\n",
       "      <td>120.757315</td>\n",
       "      <td>162600.0</td>\n",
       "      <td>Medium Popularity</td>\n",
       "      <td>Fast</td>\n",
       "      <td>Loud</td>\n",
       "      <td>December</td>\n",
       "    </tr>\n",
       "    <tr>\n",
       "      <th>1</th>\n",
       "      <td>Call You Mine - Keanu Silva Remix</td>\n",
       "      <td>The Chainsmokers</td>\n",
       "      <td>60.0</td>\n",
       "      <td>Call You Mine - The Remixes</td>\n",
       "      <td>2019-07-19 00:00:00</td>\n",
       "      <td>pop</td>\n",
       "      <td>0.718</td>\n",
       "      <td>0.930</td>\n",
       "      <td>7.0</td>\n",
       "      <td>-3.778</td>\n",
       "      <td>0.10200</td>\n",
       "      <td>0.204000</td>\n",
       "      <td>0.277</td>\n",
       "      <td>121.956000</td>\n",
       "      <td>169093.0</td>\n",
       "      <td>Medium Popularity</td>\n",
       "      <td>Fast</td>\n",
       "      <td>Loud</td>\n",
       "      <td>July</td>\n",
       "    </tr>\n",
       "    <tr>\n",
       "      <th>2</th>\n",
       "      <td>Someone You Loved - Future Humans Remix</td>\n",
       "      <td>Lewis Capaldi</td>\n",
       "      <td>69.0</td>\n",
       "      <td>Someone You Loved (Future Humans Remix)</td>\n",
       "      <td>2019-03-05 00:00:00</td>\n",
       "      <td>pop</td>\n",
       "      <td>0.650</td>\n",
       "      <td>0.833</td>\n",
       "      <td>1.0</td>\n",
       "      <td>-4.672</td>\n",
       "      <td>0.03590</td>\n",
       "      <td>0.191022</td>\n",
       "      <td>0.725</td>\n",
       "      <td>123.976000</td>\n",
       "      <td>189052.0</td>\n",
       "      <td>Medium Popularity</td>\n",
       "      <td>Fast</td>\n",
       "      <td>Loud</td>\n",
       "      <td>March</td>\n",
       "    </tr>\n",
       "    <tr>\n",
       "      <th>3</th>\n",
       "      <td>Never Really Over - R3HAB Remix</td>\n",
       "      <td>Katy Perry</td>\n",
       "      <td>62.0</td>\n",
       "      <td>Never Really Over (R3HAB Remix)</td>\n",
       "      <td>2019-07-26 00:00:00</td>\n",
       "      <td>pop</td>\n",
       "      <td>0.449</td>\n",
       "      <td>0.856</td>\n",
       "      <td>5.0</td>\n",
       "      <td>-4.788</td>\n",
       "      <td>0.10645</td>\n",
       "      <td>0.176000</td>\n",
       "      <td>0.152</td>\n",
       "      <td>112.648000</td>\n",
       "      <td>187675.0</td>\n",
       "      <td>Medium Popularity</td>\n",
       "      <td>Moderate</td>\n",
       "      <td>Loud</td>\n",
       "      <td>July</td>\n",
       "    </tr>\n",
       "    <tr>\n",
       "      <th>4</th>\n",
       "      <td>Post Malone (feat. RANI) - GATTÜSO Remix</td>\n",
       "      <td>Sam Feldt</td>\n",
       "      <td>69.0</td>\n",
       "      <td>Post Malone (feat. RANI) [GATTÜSO Remix]</td>\n",
       "      <td>2019-08-29 00:00:00</td>\n",
       "      <td>pop</td>\n",
       "      <td>0.542</td>\n",
       "      <td>0.903</td>\n",
       "      <td>4.0</td>\n",
       "      <td>-2.419</td>\n",
       "      <td>0.04340</td>\n",
       "      <td>0.191022</td>\n",
       "      <td>0.367</td>\n",
       "      <td>127.936000</td>\n",
       "      <td>207619.0</td>\n",
       "      <td>Medium Popularity</td>\n",
       "      <td>Fast</td>\n",
       "      <td>Loud</td>\n",
       "      <td>August</td>\n",
       "    </tr>\n",
       "  </tbody>\n",
       "</table>\n",
       "</div>"
      ]
     },
     "execution_count": 5,
     "metadata": {},
     "output_type": "execute_result"
    }
   ],
   "execution_count": 5
  },
  {
   "metadata": {
    "ExecuteTime": {
     "end_time": "2024-10-24T09:48:41.145360Z",
     "start_time": "2024-10-24T09:48:41.126499Z"
    }
   },
   "cell_type": "code",
   "source": [
    "from sklearn.feature_selection import f_classif, SelectKBest\n",
    "\n",
    "X = data[['danceability', 'energy', 'tempo', 'loudness']]  # Feature set\n",
    "y = data['track_popularity']  # Target\n",
    "\n",
    "# Apply the F-test\n",
    "selector = SelectKBest(f_classif, k='all')\n",
    "X_new = selector.fit_transform(X, y)\n",
    "\n",
    "# Get the scores\n",
    "f_scores = selector.scores_\n",
    "f_scores"
   ],
   "id": "b1b707f23e8f844d",
   "outputs": [
    {
     "data": {
      "text/plain": [
       "array([2.59498941, 4.13561078, 1.0924728 , 2.99860198])"
      ]
     },
     "execution_count": 14,
     "metadata": {},
     "output_type": "execute_result"
    }
   ],
   "execution_count": 14
  },
  {
   "metadata": {},
   "cell_type": "markdown",
   "source": "### chi test for categorical features",
   "id": "e00d5314640d9c46"
  },
  {
   "metadata": {},
   "cell_type": "code",
   "outputs": [],
   "execution_count": null,
   "source": [
    "from scipy.stats import chisquare\n",
    "chisquare()"
   ],
   "id": "49aac5e9353c4f2a"
  }
 ],
 "metadata": {
  "kernelspec": {
   "display_name": "Python 3",
   "language": "python",
   "name": "python3"
  },
  "language_info": {
   "codemirror_mode": {
    "name": "ipython",
    "version": 2
   },
   "file_extension": ".py",
   "mimetype": "text/x-python",
   "name": "python",
   "nbconvert_exporter": "python",
   "pygments_lexer": "ipython2",
   "version": "2.7.6"
  }
 },
 "nbformat": 4,
 "nbformat_minor": 5
}

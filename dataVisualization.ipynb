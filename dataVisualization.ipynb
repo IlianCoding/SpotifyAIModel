{
 "cells": [
  {
   "cell_type": "code",
   "id": "initial_id",
   "metadata": {
    "collapsed": true,
    "ExecuteTime": {
     "end_time": "2024-10-10T10:12:18.752572Z",
     "start_time": "2024-10-10T10:12:18.743803Z"
    }
   },
   "source": [
    "import matplotlib.pyplot as plt\n",
    "import pandas as pd\n",
    "import numpy as np\n",
    "import seaborn as sns"
   ],
   "outputs": [],
   "execution_count": 22
  },
  {
   "metadata": {},
   "cell_type": "markdown",
   "source": "# Data Visualization",
   "id": "578ed1ef7f874091"
  },
  {
   "metadata": {},
   "cell_type": "markdown",
   "source": "### Load the data",
   "id": "72cf3c1b8f600e5"
  },
  {
   "metadata": {
    "ExecuteTime": {
     "end_time": "2024-10-10T10:12:18.839467Z",
     "start_time": "2024-10-10T10:12:18.776254Z"
    }
   },
   "cell_type": "code",
   "source": [
    "df = pd.read_csv('dataset/spotify_songs_cleaned.csv', sep=',')\n",
    "df.head()"
   ],
   "id": "51bb63a97e683b76",
   "outputs": [
    {
     "data": {
      "text/plain": [
       "                                          track_name      track_artist  \\\n",
       "0  I Don't Care (with Justin Bieber) - Loud Luxur...        Ed Sheeran   \n",
       "1                    Memories - Dillon Francis Remix          Maroon 5   \n",
       "2                    All the Time - Don Diablo Remix      Zara Larsson   \n",
       "3                  Call You Mine - Keanu Silva Remix  The Chainsmokers   \n",
       "4            Someone You Loved - Future Humans Remix     Lewis Capaldi   \n",
       "\n",
       "   track_popularity                                   track_album_name  \\\n",
       "0                66  I Don't Care (with Justin Bieber) [Loud Luxury...   \n",
       "1                67                    Memories (Dillon Francis Remix)   \n",
       "2                70                    All the Time (Don Diablo Remix)   \n",
       "3                60                        Call You Mine - The Remixes   \n",
       "4                69            Someone You Loved (Future Humans Remix)   \n",
       "\n",
       "  track_album_release_date playlist_genre  danceability  energy  key  \\\n",
       "0               2019-06-14            pop         0.748   0.916    6   \n",
       "1               2019-12-13            pop         0.726   0.815   11   \n",
       "2               2019-07-05            pop         0.675   0.931    1   \n",
       "3               2019-07-19            pop         0.718   0.930    7   \n",
       "4               2019-03-05            pop         0.650   0.833    1   \n",
       "\n",
       "   loudness  speechiness  liveness  valence    tempo  duration_ms  \\\n",
       "0    -2.634       0.0583    0.0653    0.518  122.036       194754   \n",
       "1    -4.969       0.0373    0.3570    0.693   99.972       162600   \n",
       "2    -3.432       0.0742    0.1100    0.613  124.008       176616   \n",
       "3    -3.778       0.1020    0.2040    0.277  121.956       169093   \n",
       "4    -4.672       0.0359    0.0833    0.725  123.976       189052   \n",
       "\n",
       "  popularity_category tempo_category loudness_category release_month  \n",
       "0     High Popularity           Fast              Loud          June  \n",
       "1     High Popularity       Moderate              Loud      December  \n",
       "2     High Popularity           Fast              Loud          July  \n",
       "3   Medium Popularity           Fast              Loud          July  \n",
       "4     High Popularity           Fast              Loud         March  "
      ],
      "text/html": [
       "<div>\n",
       "<style scoped>\n",
       "    .dataframe tbody tr th:only-of-type {\n",
       "        vertical-align: middle;\n",
       "    }\n",
       "\n",
       "    .dataframe tbody tr th {\n",
       "        vertical-align: top;\n",
       "    }\n",
       "\n",
       "    .dataframe thead th {\n",
       "        text-align: right;\n",
       "    }\n",
       "</style>\n",
       "<table border=\"1\" class=\"dataframe\">\n",
       "  <thead>\n",
       "    <tr style=\"text-align: right;\">\n",
       "      <th></th>\n",
       "      <th>track_name</th>\n",
       "      <th>track_artist</th>\n",
       "      <th>track_popularity</th>\n",
       "      <th>track_album_name</th>\n",
       "      <th>track_album_release_date</th>\n",
       "      <th>playlist_genre</th>\n",
       "      <th>danceability</th>\n",
       "      <th>energy</th>\n",
       "      <th>key</th>\n",
       "      <th>loudness</th>\n",
       "      <th>speechiness</th>\n",
       "      <th>liveness</th>\n",
       "      <th>valence</th>\n",
       "      <th>tempo</th>\n",
       "      <th>duration_ms</th>\n",
       "      <th>popularity_category</th>\n",
       "      <th>tempo_category</th>\n",
       "      <th>loudness_category</th>\n",
       "      <th>release_month</th>\n",
       "    </tr>\n",
       "  </thead>\n",
       "  <tbody>\n",
       "    <tr>\n",
       "      <th>0</th>\n",
       "      <td>I Don't Care (with Justin Bieber) - Loud Luxur...</td>\n",
       "      <td>Ed Sheeran</td>\n",
       "      <td>66</td>\n",
       "      <td>I Don't Care (with Justin Bieber) [Loud Luxury...</td>\n",
       "      <td>2019-06-14</td>\n",
       "      <td>pop</td>\n",
       "      <td>0.748</td>\n",
       "      <td>0.916</td>\n",
       "      <td>6</td>\n",
       "      <td>-2.634</td>\n",
       "      <td>0.0583</td>\n",
       "      <td>0.0653</td>\n",
       "      <td>0.518</td>\n",
       "      <td>122.036</td>\n",
       "      <td>194754</td>\n",
       "      <td>High Popularity</td>\n",
       "      <td>Fast</td>\n",
       "      <td>Loud</td>\n",
       "      <td>June</td>\n",
       "    </tr>\n",
       "    <tr>\n",
       "      <th>1</th>\n",
       "      <td>Memories - Dillon Francis Remix</td>\n",
       "      <td>Maroon 5</td>\n",
       "      <td>67</td>\n",
       "      <td>Memories (Dillon Francis Remix)</td>\n",
       "      <td>2019-12-13</td>\n",
       "      <td>pop</td>\n",
       "      <td>0.726</td>\n",
       "      <td>0.815</td>\n",
       "      <td>11</td>\n",
       "      <td>-4.969</td>\n",
       "      <td>0.0373</td>\n",
       "      <td>0.3570</td>\n",
       "      <td>0.693</td>\n",
       "      <td>99.972</td>\n",
       "      <td>162600</td>\n",
       "      <td>High Popularity</td>\n",
       "      <td>Moderate</td>\n",
       "      <td>Loud</td>\n",
       "      <td>December</td>\n",
       "    </tr>\n",
       "    <tr>\n",
       "      <th>2</th>\n",
       "      <td>All the Time - Don Diablo Remix</td>\n",
       "      <td>Zara Larsson</td>\n",
       "      <td>70</td>\n",
       "      <td>All the Time (Don Diablo Remix)</td>\n",
       "      <td>2019-07-05</td>\n",
       "      <td>pop</td>\n",
       "      <td>0.675</td>\n",
       "      <td>0.931</td>\n",
       "      <td>1</td>\n",
       "      <td>-3.432</td>\n",
       "      <td>0.0742</td>\n",
       "      <td>0.1100</td>\n",
       "      <td>0.613</td>\n",
       "      <td>124.008</td>\n",
       "      <td>176616</td>\n",
       "      <td>High Popularity</td>\n",
       "      <td>Fast</td>\n",
       "      <td>Loud</td>\n",
       "      <td>July</td>\n",
       "    </tr>\n",
       "    <tr>\n",
       "      <th>3</th>\n",
       "      <td>Call You Mine - Keanu Silva Remix</td>\n",
       "      <td>The Chainsmokers</td>\n",
       "      <td>60</td>\n",
       "      <td>Call You Mine - The Remixes</td>\n",
       "      <td>2019-07-19</td>\n",
       "      <td>pop</td>\n",
       "      <td>0.718</td>\n",
       "      <td>0.930</td>\n",
       "      <td>7</td>\n",
       "      <td>-3.778</td>\n",
       "      <td>0.1020</td>\n",
       "      <td>0.2040</td>\n",
       "      <td>0.277</td>\n",
       "      <td>121.956</td>\n",
       "      <td>169093</td>\n",
       "      <td>Medium Popularity</td>\n",
       "      <td>Fast</td>\n",
       "      <td>Loud</td>\n",
       "      <td>July</td>\n",
       "    </tr>\n",
       "    <tr>\n",
       "      <th>4</th>\n",
       "      <td>Someone You Loved - Future Humans Remix</td>\n",
       "      <td>Lewis Capaldi</td>\n",
       "      <td>69</td>\n",
       "      <td>Someone You Loved (Future Humans Remix)</td>\n",
       "      <td>2019-03-05</td>\n",
       "      <td>pop</td>\n",
       "      <td>0.650</td>\n",
       "      <td>0.833</td>\n",
       "      <td>1</td>\n",
       "      <td>-4.672</td>\n",
       "      <td>0.0359</td>\n",
       "      <td>0.0833</td>\n",
       "      <td>0.725</td>\n",
       "      <td>123.976</td>\n",
       "      <td>189052</td>\n",
       "      <td>High Popularity</td>\n",
       "      <td>Fast</td>\n",
       "      <td>Loud</td>\n",
       "      <td>March</td>\n",
       "    </tr>\n",
       "  </tbody>\n",
       "</table>\n",
       "</div>"
      ]
     },
     "execution_count": 23,
     "metadata": {},
     "output_type": "execute_result"
    }
   ],
   "execution_count": 23
  },
  {
   "metadata": {},
   "cell_type": "markdown",
   "source": "### Popularity Distribution over genres",
   "id": "44060658111a4f85"
  },
  {
   "metadata": {
    "ExecuteTime": {
     "end_time": "2024-10-10T10:12:19.000328Z",
     "start_time": "2024-10-10T10:12:18.874144Z"
    }
   },
   "cell_type": "code",
   "source": [
    "data = df.groupby('playlist_genre')['track_popularity'].mean().sort_values(ascending=False)\n",
    "\n",
    "sns.set_style(\"darkgrid\")\n",
    "plt.figure(figsize=(10, 6))\n",
    "\n",
    "sns.barplot(x=data.index, y=data.values, palette='viridis')\n",
    "\n",
    "plt.title('Popularity Distribution over genres')\n",
    "plt.xlabel('Genres')\n",
    "plt.ylabel('Popularity')\n",
    "\n",
    "plt.show()"
   ],
   "id": "cbe5901244f51711",
   "outputs": [
    {
     "name": "stderr",
     "output_type": "stream",
     "text": [
      "C:\\Users\\ilian\\AppData\\Local\\Temp\\ipykernel_15304\\18199056.py:6: FutureWarning: \n",
      "\n",
      "Passing `palette` without assigning `hue` is deprecated and will be removed in v0.14.0. Assign the `x` variable to `hue` and set `legend=False` for the same effect.\n",
      "\n",
      "  sns.barplot(x=data.index, y=data.values, palette='viridis')\n"
     ]
    },
    {
     "data": {
      "text/plain": [
       "<Figure size 1000x600 with 1 Axes>"
      ],
      "image/png": "[encoded data removed]"
     },
     "metadata": {},
     "output_type": "display_data"
    }
   ],
   "execution_count": 24
  },
  {
   "metadata": {},
   "cell_type": "markdown",
   "source": "### Energy vs danceability",
   "id": "825ecaa166c32403"
  },
  {
   "metadata": {
    "ExecuteTime": {
     "end_time": "2024-10-10T10:12:19.297110Z",
     "start_time": "2024-10-10T10:12:19.131180Z"
    }
   },
   "cell_type": "code",
   "source": [
    "data = df.groupby('release_month')['track_popularity'].mean().sort_values(ascending=False)\n",
    "\n",
    "sns.set_style(\"darkgrid\")\n",
    "plt.figure(figsize=(10, 6))\n",
    "\n",
    "sns.barplot(x=data.index, y=data.values, palette='viridis')\n",
    "\n",
    "plt.title('Popularity Distribution over genres')\n",
    "plt.xlabel('Month released')\n",
    "plt.ylabel('Popularity')\n",
    "\n",
    "plt.show()"
   ],
   "id": "b800adcc10c8b40e",
   "outputs": [
    {
     "name": "stderr",
     "output_type": "stream",
     "text": [
      "C:\\Users\\ilian\\AppData\\Local\\Temp\\ipykernel_15304\\3116971844.py:6: FutureWarning: \n",
      "\n",
      "Passing `palette` without assigning `hue` is deprecated and will be removed in v0.14.0. Assign the `x` variable to `hue` and set `legend=False` for the same effect.\n",
      "\n",
      "  sns.barplot(x=data.index, y=data.values, palette='viridis')\n"
     ]
    },
    {
     "data": {
      "text/plain": [
       "<Figure size 1000x600 with 1 Axes>"
      ],
      "image/png": "[encoded data removed]"
     },
     "metadata": {},
     "output_type": "display_data"
    }
   ],
   "execution_count": 25
  }
 ],
 "metadata": {
  "kernelspec": {
   "display_name": "Python 3",
   "language": "python",
   "name": "python3"
  },
  "language_info": {
   "codemirror_mode": {
    "name": "ipython",
    "version": 2
   },
   "file_extension": ".py",
   "mimetype": "text/x-python",
   "name": "python",
   "nbconvert_exporter": "python",
   "pygments_lexer": "ipython2",
   "version": "2.7.6"
  }
 },
 "nbformat": 4,
 "nbformat_minor": 5
}

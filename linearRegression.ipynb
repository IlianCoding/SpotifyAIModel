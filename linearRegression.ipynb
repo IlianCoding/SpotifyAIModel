{
 "cells": [
  {
   "metadata": {},
   "cell_type": "markdown",
   "source": "# Linear Regression",
   "id": "a6e36d2ba161f5a9"
  },
  {
   "metadata": {},
   "cell_type": "markdown",
   "source": "#### Importing Libraries",
   "id": "898280638ad06378"
  },
  {
   "cell_type": "code",
   "id": "initial_id",
   "metadata": {
    "collapsed": true,
    "ExecuteTime": {
     "end_time": "2024-10-30T13:58:58.405843Z",
     "start_time": "2024-10-30T13:58:58.403795Z"
    }
   },
   "source": [
    "import pandas as pd\n",
    "from sklearn.model_selection import train_test_split\n",
    "from sklearn.preprocessing import StandardScaler\n",
    "from sklearn.linear_model import LinearRegression\n",
    "from sklearn.metrics import mean_squared_error, r2_score"
   ],
   "outputs": [],
   "execution_count": 25
  },
  {
   "metadata": {},
   "cell_type": "markdown",
   "source": "#### Loading the dataset",
   "id": "9cfc7526759ce684"
  },
  {
   "metadata": {
    "ExecuteTime": {
     "end_time": "2024-10-30T13:58:58.441530Z",
     "start_time": "2024-10-30T13:58:58.413149Z"
    }
   },
   "cell_type": "code",
   "source": [
    "data = pd.read_csv('dataset/spotify_features.csv', sep=',')\n",
    "data.head()"
   ],
   "id": "de3c06c4c5ced262",
   "outputs": [
    {
     "data": {
      "text/plain": [
       "   track_popularity  instrumentalness  duration_ms  energy  acousticness  \\\n",
       "0              67.0          0.004210     162600.0   0.815        0.0724   \n",
       "1              70.0          0.000023     176616.0   0.931        0.0794   \n",
       "2              60.0          0.000009     169093.0   0.930        0.0287   \n",
       "3              62.0          0.000000     187675.0   0.856        0.1870   \n",
       "4              58.0          0.000005     207894.0   0.923        0.1460   \n",
       "\n",
       "   album_month  album_year  danceability  loudness  liveness  genre_code  \\\n",
       "0           12        2019         0.726    -4.969   0.35700           2   \n",
       "1            7        2019         0.675    -3.432   0.19031           2   \n",
       "2            7        2019         0.718    -3.778   0.20400           2   \n",
       "3            7        2019         0.449    -4.788   0.17600           2   \n",
       "4            6        2019         0.679    -6.500   0.12400           2   \n",
       "\n",
       "   release_month_code   valence  artist_code  speechiness    tempo  \n",
       "0                   2  0.693000         4535     0.106983   99.972  \n",
       "1                   5  0.613000         7724     0.074200  124.008  \n",
       "2                   5  0.509838         6862     0.102000  121.956  \n",
       "3                   5  0.152000         3635     0.062300  112.648  \n",
       "4                   6  0.752000         2056     0.181000  121.984  "
      ],
      "text/html": [
       "<div>\n",
       "<style scoped>\n",
       "    .dataframe tbody tr th:only-of-type {\n",
       "        vertical-align: middle;\n",
       "    }\n",
       "\n",
       "    .dataframe tbody tr th {\n",
       "        vertical-align: top;\n",
       "    }\n",
       "\n",
       "    .dataframe thead th {\n",
       "        text-align: right;\n",
       "    }\n",
       "</style>\n",
       "<table border=\"1\" class=\"dataframe\">\n",
       "  <thead>\n",
       "    <tr style=\"text-align: right;\">\n",
       "      <th></th>\n",
       "      <th>track_popularity</th>\n",
       "      <th>instrumentalness</th>\n",
       "      <th>duration_ms</th>\n",
       "      <th>energy</th>\n",
       "      <th>acousticness</th>\n",
       "      <th>album_month</th>\n",
       "      <th>album_year</th>\n",
       "      <th>danceability</th>\n",
       "      <th>loudness</th>\n",
       "      <th>liveness</th>\n",
       "      <th>genre_code</th>\n",
       "      <th>release_month_code</th>\n",
       "      <th>valence</th>\n",
       "      <th>artist_code</th>\n",
       "      <th>speechiness</th>\n",
       "      <th>tempo</th>\n",
       "    </tr>\n",
       "  </thead>\n",
       "  <tbody>\n",
       "    <tr>\n",
       "      <th>0</th>\n",
       "      <td>67.0</td>\n",
       "      <td>0.004210</td>\n",
       "      <td>162600.0</td>\n",
       "      <td>0.815</td>\n",
       "      <td>0.0724</td>\n",
       "      <td>12</td>\n",
       "      <td>2019</td>\n",
       "      <td>0.726</td>\n",
       "      <td>-4.969</td>\n",
       "      <td>0.35700</td>\n",
       "      <td>2</td>\n",
       "      <td>2</td>\n",
       "      <td>0.693000</td>\n",
       "      <td>4535</td>\n",
       "      <td>0.106983</td>\n",
       "      <td>99.972</td>\n",
       "    </tr>\n",
       "    <tr>\n",
       "      <th>1</th>\n",
       "      <td>70.0</td>\n",
       "      <td>0.000023</td>\n",
       "      <td>176616.0</td>\n",
       "      <td>0.931</td>\n",
       "      <td>0.0794</td>\n",
       "      <td>7</td>\n",
       "      <td>2019</td>\n",
       "      <td>0.675</td>\n",
       "      <td>-3.432</td>\n",
       "      <td>0.19031</td>\n",
       "      <td>2</td>\n",
       "      <td>5</td>\n",
       "      <td>0.613000</td>\n",
       "      <td>7724</td>\n",
       "      <td>0.074200</td>\n",
       "      <td>124.008</td>\n",
       "    </tr>\n",
       "    <tr>\n",
       "      <th>2</th>\n",
       "      <td>60.0</td>\n",
       "      <td>0.000009</td>\n",
       "      <td>169093.0</td>\n",
       "      <td>0.930</td>\n",
       "      <td>0.0287</td>\n",
       "      <td>7</td>\n",
       "      <td>2019</td>\n",
       "      <td>0.718</td>\n",
       "      <td>-3.778</td>\n",
       "      <td>0.20400</td>\n",
       "      <td>2</td>\n",
       "      <td>5</td>\n",
       "      <td>0.509838</td>\n",
       "      <td>6862</td>\n",
       "      <td>0.102000</td>\n",
       "      <td>121.956</td>\n",
       "    </tr>\n",
       "    <tr>\n",
       "      <th>3</th>\n",
       "      <td>62.0</td>\n",
       "      <td>0.000000</td>\n",
       "      <td>187675.0</td>\n",
       "      <td>0.856</td>\n",
       "      <td>0.1870</td>\n",
       "      <td>7</td>\n",
       "      <td>2019</td>\n",
       "      <td>0.449</td>\n",
       "      <td>-4.788</td>\n",
       "      <td>0.17600</td>\n",
       "      <td>2</td>\n",
       "      <td>5</td>\n",
       "      <td>0.152000</td>\n",
       "      <td>3635</td>\n",
       "      <td>0.062300</td>\n",
       "      <td>112.648</td>\n",
       "    </tr>\n",
       "    <tr>\n",
       "      <th>4</th>\n",
       "      <td>58.0</td>\n",
       "      <td>0.000005</td>\n",
       "      <td>207894.0</td>\n",
       "      <td>0.923</td>\n",
       "      <td>0.1460</td>\n",
       "      <td>6</td>\n",
       "      <td>2019</td>\n",
       "      <td>0.679</td>\n",
       "      <td>-6.500</td>\n",
       "      <td>0.12400</td>\n",
       "      <td>2</td>\n",
       "      <td>6</td>\n",
       "      <td>0.752000</td>\n",
       "      <td>2056</td>\n",
       "      <td>0.181000</td>\n",
       "      <td>121.984</td>\n",
       "    </tr>\n",
       "  </tbody>\n",
       "</table>\n",
       "</div>"
      ]
     },
     "execution_count": 26,
     "metadata": {},
     "output_type": "execute_result"
    }
   ],
   "execution_count": 26
  },
  {
   "metadata": {},
   "cell_type": "markdown",
   "source": "#### Data Preprocessing",
   "id": "8744119d3ecab14e"
  },
  {
   "metadata": {
    "ExecuteTime": {
     "end_time": "2024-10-30T13:58:58.478630Z",
     "start_time": "2024-10-30T13:58:58.471951Z"
    }
   },
   "cell_type": "code",
   "source": [
    "X = data.drop(columns=['track_popularity'])\n",
    "y = data['track_popularity']\n",
    "\n",
    "X_train, X_test, y_train, y_test = train_test_split(X, y, test_size=0.2, random_state=42)\n",
    "\n",
    "\n",
    "print(f'Training data: {X_train.shape}, {y_train.shape}')\n",
    "print(f'Test data: {X_test.shape}, {y_test.shape}')"
   ],
   "id": "a5e6bcba1fdcf405",
   "outputs": [
    {
     "name": "stdout",
     "output_type": "stream",
     "text": [
      "Training data: (15878, 15), (15878,)\n",
      "Test data: (3970, 15), (3970,)\n"
     ]
    }
   ],
   "execution_count": 27
  },
  {
   "metadata": {},
   "cell_type": "markdown",
   "source": "#### Standardization",
   "id": "b79c23815832c82"
  },
  {
   "metadata": {
    "ExecuteTime": {
     "end_time": "2024-10-30T13:58:58.566819Z",
     "start_time": "2024-10-30T13:58:58.555763Z"
    }
   },
   "cell_type": "code",
   "source": [
    "scaler = StandardScaler()\n",
    "X_train_scaled = scaler.fit_transform(X_train)\n",
    "X_test_scaled = scaler.transform(X_test)"
   ],
   "id": "5cf1b3ca9659cd59",
   "outputs": [],
   "execution_count": 28
  },
  {
   "metadata": {},
   "cell_type": "markdown",
   "source": "#### Linear Regression Model Training",
   "id": "f898cb8cc852b8d"
  },
  {
   "metadata": {
    "ExecuteTime": {
     "end_time": "2024-10-30T13:58:58.616833Z",
     "start_time": "2024-10-30T13:58:58.603319Z"
    }
   },
   "cell_type": "code",
   "source": [
    "model = LinearRegression()\n",
    "model.fit(X_train_scaled, y_train)\n",
    "\n",
    "y_pred = model.predict(X_test_scaled)"
   ],
   "id": "ab6452115df8ff4a",
   "outputs": [],
   "execution_count": 29
  },
  {
   "metadata": {},
   "cell_type": "markdown",
   "source": "#### Model Evaluation",
   "id": "4422bf4bfd563639"
  },
  {
   "metadata": {
    "ExecuteTime": {
     "end_time": "2024-10-30T13:58:58.665499Z",
     "start_time": "2024-10-30T13:58:58.661859Z"
    }
   },
   "cell_type": "code",
   "source": [
    "mse = mean_squared_error(y_test, y_pred)\n",
    "r2 = r2_score(y_test, y_pred)\n",
    "\n",
    "print(\"Mean Squared Error:\", mse)\n",
    "print(\"R-squared:\", r2)\n",
    "print(\"Intercept:\", model.intercept_)\n",
    "print(\"Coefficients:\", model.coef_)"
   ],
   "id": "efbe918b16238516",
   "outputs": [
    {
     "name": "stdout",
     "output_type": "stream",
     "text": [
      "Mean Squared Error: 530.1929094899106\n",
      "R-squared: 0.07512857866533673\n",
      "Intercept: 42.92925339342279\n",
      "Coefficients: [-2.4144341  -2.6049894  -4.1038759   0.73724545  1.45543052  0.50530644\n",
      "  0.96773041  3.59751417 -0.66725919  1.08272172  0.33019016  0.37587785\n",
      "  0.31748703 -0.79841925  0.52449635]\n"
     ]
    }
   ],
   "execution_count": 30
  }
 ],
 "metadata": {
  "kernelspec": {
   "display_name": "Python 3",
   "language": "python",
   "name": "python3"
  },
  "language_info": {
   "codemirror_mode": {
    "name": "ipython",
    "version": 2
   },
   "file_extension": ".py",
   "mimetype": "text/x-python",
   "name": "python",
   "nbconvert_exporter": "python",
   "pygments_lexer": "ipython2",
   "version": "2.7.6"
  }
 },
 "nbformat": 4,
 "nbformat_minor": 5
}
